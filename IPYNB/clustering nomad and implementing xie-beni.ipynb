{
 "cells": [
  {
   "cell_type": "code",
   "execution_count": 16,
   "metadata": {
    "collapsed": true
   },
   "outputs": [],
   "source": [
    "import pandas as pd\n",
    "import matplotlib.pyplot as pl\n",
    "%matplotlib inline"
   ]
  },
  {
   "cell_type": "code",
   "execution_count": 2,
   "metadata": {
    "collapsed": false
   },
   "outputs": [],
   "source": [
    "myFile=('/disk01/home/ekarakoy/OWTypes/validation_sets/nomad_seabass_v2.a_2008200.txt')\n",
    "colStr='year,month,day,hour,minute,second,lat,lon,id,oisst,etopo2,chl,chl_a,kd405,kd411 \\\n",
    "         ,kd443,kd455,kd465,kd489,kd510,kd520,kd530,kd550,kd555,kd560,kd565,kd570,kd590,kd619,kd625, \\\n",
    "         kd665,kd670,kd683,lw405,lw411,lw443,lw455,lw465,lw489,lw510,lw520,lw530,lw550,lw555,lw560,lw565,lw570, \\\n",
    "         lw590,lw619,lw625,lw665,lw670,lw683,es405,es411,es443,es455,es465,es489,es510,es520,es530,es550,es555,es560, \\\n",
    "         es565,es570,es590,es619,es625,es665,es670,es683,ap405,ap411,ap443,ap455,ap465,ap489,ap510,ap520,ap530,ap550, \\\n",
    "         ap555,ap560,ap565,ap570,ap590,ap619,ap625,ap665,ap670,ap683,ad405,ad411,ad443,ad455,ad465,ad489,ad510,ad520, \\\n",
    "         ad530,ad550,ad555,ad560,ad565,ad570,ad590,ad619,ad625,ad665,ad670,ad683,ag405,ag411,ag443,ag455,ag465,ag489,ag510,\\\n",
    "         ag520,ag530,ag550,ag555,ag560,ag565,ag570,ag590,ag619,ag625,ag665,ag670,ag683,a405,a411,a443,a455,a465,a489, \\\n",
    "         a510,a520,a530,a550,a555,a560,a565,a570,a590,a619,a625,a665,a670,a683,bb405,bb411,bb443,bb455,bb465,bb489, \\\n",
    "         bb510,bb520,bb530,bb550,bb555,bb560,bb565,bb570,bb590,bb619,bb625,bb665,bb670,bb683,bbr420,bbr442,bbr470, \\\n",
    "         bbr488,bbr510,bbr514,bbr532,bbr550,bbr555,bbr589,bbr620,bbr671,bbr676,bbr870,wt,sal,poc,kpar,z_37,z_10,z_01, \\\n",
    "         chlide_a,mv_chl_a,dv_chl_a,chl_c3,chl_c2,chl_c1c2,perid,but-fuco,hex-fuco,fuco,pras,viola,diadino,allo,diato, \\\n",
    "         lut,zea,chl_b,beta-car,alpha-car,alpha-beta-car,flag,cruise'\n",
    "columns=colStr.split(',')"
   ]
  },
  {
   "cell_type": "code",
   "execution_count": 3,
   "metadata": {
    "collapsed": false
   },
   "outputs": [],
   "source": [
    "dfNomad = pd.read_csv(myFile,skiprows=91,na_values=-999,names=columns,parse_dates={'datetime':columns[:6]},\n",
    "                     index_col='datetime')"
   ]
  },
  {
   "cell_type": "code",
   "execution_count": 4,
   "metadata": {
    "collapsed": false
   },
   "outputs": [],
   "source": [
    "lws = [col for col in dfNomad.columns if 'lw' in col ]\n",
    "es = [col for col in dfNomad.columns if 'es' in col]"
   ]
  },
  {
   "cell_type": "code",
   "execution_count": 5,
   "metadata": {
    "collapsed": false
   },
   "outputs": [
    {
     "name": "stdout",
     "output_type": "stream",
     "text": [
      "[('lw405', 'es405'), ('lw411', 'es411'), ('lw443', 'es443'), ('lw455', 'es455'), ('lw465', 'es465'), ('lw489', 'es489'), ('lw510', 'es510'), ('lw520', 'es520'), ('lw530', 'es530'), ('lw550', 'es550'), ('lw555', 'es555'), ('lw560', 'es560'), ('lw565', '          es565'), ('lw570', 'es570'), ('          lw590', 'es590'), ('lw619', 'es619'), ('lw625', 'es625'), ('lw665', 'es665'), ('lw670', 'es670'), ('lw683', 'es683')]\n"
     ]
    }
   ],
   "source": [
    "print( [(i,j) for i,j in zip(lws,es)])"
   ]
  },
  {
   "cell_type": "code",
   "execution_count": 6,
   "metadata": {
    "collapsed": false
   },
   "outputs": [],
   "source": [
    "dfLw = dfNomad[lws]"
   ]
  },
  {
   "cell_type": "code",
   "execution_count": 7,
   "metadata": {
    "collapsed": false
   },
   "outputs": [
    {
     "data": {
      "text/html": [
       "<div>\n",
       "<table border=\"1\" class=\"dataframe\">\n",
       "  <thead>\n",
       "    <tr style=\"text-align: right;\">\n",
       "      <th></th>\n",
       "      <th>lw405</th>\n",
       "      <th>lw411</th>\n",
       "      <th>lw443</th>\n",
       "      <th>lw455</th>\n",
       "      <th>lw465</th>\n",
       "      <th>lw489</th>\n",
       "      <th>lw510</th>\n",
       "      <th>lw520</th>\n",
       "      <th>lw530</th>\n",
       "      <th>lw550</th>\n",
       "      <th>lw555</th>\n",
       "      <th>lw560</th>\n",
       "      <th>lw565</th>\n",
       "      <th>lw570</th>\n",
       "      <th>lw590</th>\n",
       "      <th>lw619</th>\n",
       "      <th>lw625</th>\n",
       "      <th>lw665</th>\n",
       "      <th>lw670</th>\n",
       "      <th>lw683</th>\n",
       "    </tr>\n",
       "    <tr>\n",
       "      <th>datetime</th>\n",
       "      <th></th>\n",
       "      <th></th>\n",
       "      <th></th>\n",
       "      <th></th>\n",
       "      <th></th>\n",
       "      <th></th>\n",
       "      <th></th>\n",
       "      <th></th>\n",
       "      <th></th>\n",
       "      <th></th>\n",
       "      <th></th>\n",
       "      <th></th>\n",
       "      <th></th>\n",
       "      <th></th>\n",
       "      <th></th>\n",
       "      <th></th>\n",
       "      <th></th>\n",
       "      <th></th>\n",
       "      <th></th>\n",
       "      <th></th>\n",
       "    </tr>\n",
       "  </thead>\n",
       "  <tbody>\n",
       "    <tr>\n",
       "      <th>2003 04 15 15 15 00</th>\n",
       "      <td>NaN</td>\n",
       "      <td>0.129962</td>\n",
       "      <td>0.204331</td>\n",
       "      <td>0.299114</td>\n",
       "      <td>NaN</td>\n",
       "      <td>0.452029</td>\n",
       "      <td>0.541019</td>\n",
       "      <td>NaN</td>\n",
       "      <td>0.741313</td>\n",
       "      <td>NaN</td>\n",
       "      <td>0.979378</td>\n",
       "      <td>NaN</td>\n",
       "      <td>1.141870</td>\n",
       "      <td>NaN</td>\n",
       "      <td>1.046760</td>\n",
       "      <td>NaN</td>\n",
       "      <td>0.773255</td>\n",
       "      <td>NaN</td>\n",
       "      <td>0.391235</td>\n",
       "      <td>0.393889</td>\n",
       "    </tr>\n",
       "    <tr>\n",
       "      <th>2003 04 15 16 50 00</th>\n",
       "      <td>NaN</td>\n",
       "      <td>0.120886</td>\n",
       "      <td>0.177228</td>\n",
       "      <td>0.242677</td>\n",
       "      <td>NaN</td>\n",
       "      <td>0.315395</td>\n",
       "      <td>0.352306</td>\n",
       "      <td>NaN</td>\n",
       "      <td>0.453420</td>\n",
       "      <td>NaN</td>\n",
       "      <td>0.574440</td>\n",
       "      <td>NaN</td>\n",
       "      <td>0.681840</td>\n",
       "      <td>NaN</td>\n",
       "      <td>0.602519</td>\n",
       "      <td>NaN</td>\n",
       "      <td>0.397329</td>\n",
       "      <td>NaN</td>\n",
       "      <td>0.200936</td>\n",
       "      <td>0.244307</td>\n",
       "    </tr>\n",
       "    <tr>\n",
       "      <th>2003 04 15 17 50 00</th>\n",
       "      <td>NaN</td>\n",
       "      <td>0.111049</td>\n",
       "      <td>0.151807</td>\n",
       "      <td>0.192820</td>\n",
       "      <td>NaN</td>\n",
       "      <td>0.269218</td>\n",
       "      <td>0.326515</td>\n",
       "      <td>NaN</td>\n",
       "      <td>0.467751</td>\n",
       "      <td>NaN</td>\n",
       "      <td>0.595226</td>\n",
       "      <td>NaN</td>\n",
       "      <td>0.666951</td>\n",
       "      <td>NaN</td>\n",
       "      <td>0.584251</td>\n",
       "      <td>NaN</td>\n",
       "      <td>0.376629</td>\n",
       "      <td>NaN</td>\n",
       "      <td>0.193438</td>\n",
       "      <td>0.197164</td>\n",
       "    </tr>\n",
       "    <tr>\n",
       "      <th>2003 04 17 18 15 00</th>\n",
       "      <td>NaN</td>\n",
       "      <td>0.051578</td>\n",
       "      <td>0.066430</td>\n",
       "      <td>0.092185</td>\n",
       "      <td>NaN</td>\n",
       "      <td>0.121242</td>\n",
       "      <td>0.148580</td>\n",
       "      <td>NaN</td>\n",
       "      <td>0.189742</td>\n",
       "      <td>NaN</td>\n",
       "      <td>0.274316</td>\n",
       "      <td>NaN</td>\n",
       "      <td>0.310893</td>\n",
       "      <td>NaN</td>\n",
       "      <td>0.274693</td>\n",
       "      <td>NaN</td>\n",
       "      <td>0.193681</td>\n",
       "      <td>NaN</td>\n",
       "      <td>0.102543</td>\n",
       "      <td>0.124202</td>\n",
       "    </tr>\n",
       "    <tr>\n",
       "      <th>2003 07 21 18 27 00</th>\n",
       "      <td>NaN</td>\n",
       "      <td>0.056001</td>\n",
       "      <td>0.068530</td>\n",
       "      <td>0.090152</td>\n",
       "      <td>NaN</td>\n",
       "      <td>0.108838</td>\n",
       "      <td>0.132581</td>\n",
       "      <td>NaN</td>\n",
       "      <td>0.166820</td>\n",
       "      <td>NaN</td>\n",
       "      <td>0.216023</td>\n",
       "      <td>NaN</td>\n",
       "      <td>0.240310</td>\n",
       "      <td>NaN</td>\n",
       "      <td>0.186762</td>\n",
       "      <td>NaN</td>\n",
       "      <td>0.129458</td>\n",
       "      <td>NaN</td>\n",
       "      <td>0.089663</td>\n",
       "      <td>0.108144</td>\n",
       "    </tr>\n",
       "  </tbody>\n",
       "</table>\n",
       "</div>"
      ],
      "text/plain": [
       "                     lw405     lw411     lw443     lw455  lw465     lw489  \\\n",
       "datetime                                                                    \n",
       "2003 04 15 15 15 00    NaN  0.129962  0.204331  0.299114    NaN  0.452029   \n",
       "2003 04 15 16 50 00    NaN  0.120886  0.177228  0.242677    NaN  0.315395   \n",
       "2003 04 15 17 50 00    NaN  0.111049  0.151807  0.192820    NaN  0.269218   \n",
       "2003 04 17 18 15 00    NaN  0.051578  0.066430  0.092185    NaN  0.121242   \n",
       "2003 07 21 18 27 00    NaN  0.056001  0.068530  0.090152    NaN  0.108838   \n",
       "\n",
       "                        lw510  lw520     lw530  lw550     lw555  lw560  \\\n",
       "datetime                                                                 \n",
       "2003 04 15 15 15 00  0.541019    NaN  0.741313    NaN  0.979378    NaN   \n",
       "2003 04 15 16 50 00  0.352306    NaN  0.453420    NaN  0.574440    NaN   \n",
       "2003 04 15 17 50 00  0.326515    NaN  0.467751    NaN  0.595226    NaN   \n",
       "2003 04 17 18 15 00  0.148580    NaN  0.189742    NaN  0.274316    NaN   \n",
       "2003 07 21 18 27 00  0.132581    NaN  0.166820    NaN  0.216023    NaN   \n",
       "\n",
       "                        lw565  lw570            lw590  lw619     lw625  lw665  \\\n",
       "datetime                                                                        \n",
       "2003 04 15 15 15 00  1.141870    NaN         1.046760    NaN  0.773255    NaN   \n",
       "2003 04 15 16 50 00  0.681840    NaN         0.602519    NaN  0.397329    NaN   \n",
       "2003 04 15 17 50 00  0.666951    NaN         0.584251    NaN  0.376629    NaN   \n",
       "2003 04 17 18 15 00  0.310893    NaN         0.274693    NaN  0.193681    NaN   \n",
       "2003 07 21 18 27 00  0.240310    NaN         0.186762    NaN  0.129458    NaN   \n",
       "\n",
       "                        lw670     lw683  \n",
       "datetime                                 \n",
       "2003 04 15 15 15 00  0.391235  0.393889  \n",
       "2003 04 15 16 50 00  0.200936  0.244307  \n",
       "2003 04 15 17 50 00  0.193438  0.197164  \n",
       "2003 04 17 18 15 00  0.102543  0.124202  \n",
       "2003 07 21 18 27 00  0.089663  0.108144  "
      ]
     },
     "execution_count": 7,
     "metadata": {},
     "output_type": "execute_result"
    }
   ],
   "source": [
    "dfLw.head()"
   ]
  },
  {
   "cell_type": "code",
   "execution_count": 8,
   "metadata": {
    "collapsed": false
   },
   "outputs": [],
   "source": [
    "dfEs = dfNomad[es]"
   ]
  },
  {
   "cell_type": "code",
   "execution_count": 9,
   "metadata": {
    "collapsed": false
   },
   "outputs": [
    {
     "data": {
      "text/html": [
       "<div>\n",
       "<table border=\"1\" class=\"dataframe\">\n",
       "  <thead>\n",
       "    <tr style=\"text-align: right;\">\n",
       "      <th></th>\n",
       "      <th>es405</th>\n",
       "      <th>es411</th>\n",
       "      <th>es443</th>\n",
       "      <th>es455</th>\n",
       "      <th>es465</th>\n",
       "      <th>es489</th>\n",
       "      <th>es510</th>\n",
       "      <th>es520</th>\n",
       "      <th>es530</th>\n",
       "      <th>es550</th>\n",
       "      <th>es555</th>\n",
       "      <th>es560</th>\n",
       "      <th>es565</th>\n",
       "      <th>es570</th>\n",
       "      <th>es590</th>\n",
       "      <th>es619</th>\n",
       "      <th>es625</th>\n",
       "      <th>es665</th>\n",
       "      <th>es670</th>\n",
       "      <th>es683</th>\n",
       "    </tr>\n",
       "  </thead>\n",
       "  <tbody>\n",
       "    <tr>\n",
       "      <th>count</th>\n",
       "      <td>17.000000</td>\n",
       "      <td>4305.000000</td>\n",
       "      <td>4459.000000</td>\n",
       "      <td>460.000000</td>\n",
       "      <td>375.000000</td>\n",
       "      <td>4450.000000</td>\n",
       "      <td>3446.000000</td>\n",
       "      <td>1562.000000</td>\n",
       "      <td>1645.000000</td>\n",
       "      <td>912.000000</td>\n",
       "      <td>3258.000000</td>\n",
       "      <td>1193.000000</td>\n",
       "      <td>1952.000000</td>\n",
       "      <td>963.000000</td>\n",
       "      <td>701.000000</td>\n",
       "      <td>883.000000</td>\n",
       "      <td>1884.000000</td>\n",
       "      <td>2679.000000</td>\n",
       "      <td>1616.000000</td>\n",
       "      <td>2026.000000</td>\n",
       "    </tr>\n",
       "    <tr>\n",
       "      <th>mean</th>\n",
       "      <td>78.180788</td>\n",
       "      <td>73.540755</td>\n",
       "      <td>85.777988</td>\n",
       "      <td>81.044557</td>\n",
       "      <td>100.086471</td>\n",
       "      <td>93.053646</td>\n",
       "      <td>99.686608</td>\n",
       "      <td>79.037421</td>\n",
       "      <td>101.850593</td>\n",
       "      <td>107.169211</td>\n",
       "      <td>97.828945</td>\n",
       "      <td>112.703707</td>\n",
       "      <td>79.286234</td>\n",
       "      <td>103.776580</td>\n",
       "      <td>74.207520</td>\n",
       "      <td>104.035418</td>\n",
       "      <td>72.964430</td>\n",
       "      <td>84.566881</td>\n",
       "      <td>96.691502</td>\n",
       "      <td>87.335151</td>\n",
       "    </tr>\n",
       "    <tr>\n",
       "      <th>std</th>\n",
       "      <td>55.810027</td>\n",
       "      <td>42.527826</td>\n",
       "      <td>49.526399</td>\n",
       "      <td>42.926440</td>\n",
       "      <td>53.223194</td>\n",
       "      <td>52.812348</td>\n",
       "      <td>47.437513</td>\n",
       "      <td>54.597061</td>\n",
       "      <td>45.047237</td>\n",
       "      <td>41.419455</td>\n",
       "      <td>45.437147</td>\n",
       "      <td>44.697131</td>\n",
       "      <td>53.206429</td>\n",
       "      <td>42.219324</td>\n",
       "      <td>40.351176</td>\n",
       "      <td>35.324931</td>\n",
       "      <td>49.204037</td>\n",
       "      <td>40.986300</td>\n",
       "      <td>37.233330</td>\n",
       "      <td>35.406345</td>\n",
       "    </tr>\n",
       "    <tr>\n",
       "      <th>min</th>\n",
       "      <td>10.024900</td>\n",
       "      <td>0.412000</td>\n",
       "      <td>0.489000</td>\n",
       "      <td>1.520550</td>\n",
       "      <td>2.677000</td>\n",
       "      <td>0.479000</td>\n",
       "      <td>0.420000</td>\n",
       "      <td>1.315000</td>\n",
       "      <td>1.416030</td>\n",
       "      <td>1.338110</td>\n",
       "      <td>0.284000</td>\n",
       "      <td>1.335600</td>\n",
       "      <td>1.224000</td>\n",
       "      <td>3.000000</td>\n",
       "      <td>1.172130</td>\n",
       "      <td>8.077000</td>\n",
       "      <td>1.082000</td>\n",
       "      <td>1.052000</td>\n",
       "      <td>1.287880</td>\n",
       "      <td>1.020000</td>\n",
       "    </tr>\n",
       "    <tr>\n",
       "      <th>25%</th>\n",
       "      <td>19.320000</td>\n",
       "      <td>34.741000</td>\n",
       "      <td>40.442000</td>\n",
       "      <td>45.021100</td>\n",
       "      <td>54.414000</td>\n",
       "      <td>44.969450</td>\n",
       "      <td>61.575050</td>\n",
       "      <td>24.742875</td>\n",
       "      <td>68.106900</td>\n",
       "      <td>79.697250</td>\n",
       "      <td>62.379225</td>\n",
       "      <td>83.768000</td>\n",
       "      <td>27.036500</td>\n",
       "      <td>74.508500</td>\n",
       "      <td>41.941600</td>\n",
       "      <td>79.802000</td>\n",
       "      <td>24.159750</td>\n",
       "      <td>51.307000</td>\n",
       "      <td>74.092875</td>\n",
       "      <td>62.955850</td>\n",
       "    </tr>\n",
       "    <tr>\n",
       "      <th>50%</th>\n",
       "      <td>66.183900</td>\n",
       "      <td>75.080000</td>\n",
       "      <td>88.201800</td>\n",
       "      <td>79.135600</td>\n",
       "      <td>98.641000</td>\n",
       "      <td>96.760450</td>\n",
       "      <td>105.335000</td>\n",
       "      <td>80.920500</td>\n",
       "      <td>104.346000</td>\n",
       "      <td>112.808500</td>\n",
       "      <td>104.924000</td>\n",
       "      <td>117.050000</td>\n",
       "      <td>80.904450</td>\n",
       "      <td>109.649000</td>\n",
       "      <td>73.890000</td>\n",
       "      <td>110.165000</td>\n",
       "      <td>76.645150</td>\n",
       "      <td>88.946000</td>\n",
       "      <td>102.500000</td>\n",
       "      <td>92.958500</td>\n",
       "    </tr>\n",
       "    <tr>\n",
       "      <th>75%</th>\n",
       "      <td>128.973000</td>\n",
       "      <td>110.525000</td>\n",
       "      <td>127.631500</td>\n",
       "      <td>113.071000</td>\n",
       "      <td>144.217000</td>\n",
       "      <td>138.594000</td>\n",
       "      <td>139.984750</td>\n",
       "      <td>130.362750</td>\n",
       "      <td>140.394000</td>\n",
       "      <td>142.139250</td>\n",
       "      <td>136.329000</td>\n",
       "      <td>146.006000</td>\n",
       "      <td>129.177500</td>\n",
       "      <td>139.978000</td>\n",
       "      <td>101.678000</td>\n",
       "      <td>132.720500</td>\n",
       "      <td>116.041500</td>\n",
       "      <td>118.992000</td>\n",
       "      <td>123.000000</td>\n",
       "      <td>116.755250</td>\n",
       "    </tr>\n",
       "    <tr>\n",
       "      <th>max</th>\n",
       "      <td>157.127000</td>\n",
       "      <td>216.678000</td>\n",
       "      <td>238.739000</td>\n",
       "      <td>185.588000</td>\n",
       "      <td>261.140000</td>\n",
       "      <td>249.221000</td>\n",
       "      <td>252.287000</td>\n",
       "      <td>240.385000</td>\n",
       "      <td>249.681000</td>\n",
       "      <td>167.257000</td>\n",
       "      <td>243.629000</td>\n",
       "      <td>224.900000</td>\n",
       "      <td>241.932000</td>\n",
       "      <td>175.822000</td>\n",
       "      <td>232.829000</td>\n",
       "      <td>172.375000</td>\n",
       "      <td>270.043000</td>\n",
       "      <td>284.477000</td>\n",
       "      <td>194.600000</td>\n",
       "      <td>158.677000</td>\n",
       "    </tr>\n",
       "  </tbody>\n",
       "</table>\n",
       "</div>"
      ],
      "text/plain": [
       "            es405        es411        es443       es455       es465  \\\n",
       "count   17.000000  4305.000000  4459.000000  460.000000  375.000000   \n",
       "mean    78.180788    73.540755    85.777988   81.044557  100.086471   \n",
       "std     55.810027    42.527826    49.526399   42.926440   53.223194   \n",
       "min     10.024900     0.412000     0.489000    1.520550    2.677000   \n",
       "25%     19.320000    34.741000    40.442000   45.021100   54.414000   \n",
       "50%     66.183900    75.080000    88.201800   79.135600   98.641000   \n",
       "75%    128.973000   110.525000   127.631500  113.071000  144.217000   \n",
       "max    157.127000   216.678000   238.739000  185.588000  261.140000   \n",
       "\n",
       "             es489        es510        es520        es530       es550  \\\n",
       "count  4450.000000  3446.000000  1562.000000  1645.000000  912.000000   \n",
       "mean     93.053646    99.686608    79.037421   101.850593  107.169211   \n",
       "std      52.812348    47.437513    54.597061    45.047237   41.419455   \n",
       "min       0.479000     0.420000     1.315000     1.416030    1.338110   \n",
       "25%      44.969450    61.575050    24.742875    68.106900   79.697250   \n",
       "50%      96.760450   105.335000    80.920500   104.346000  112.808500   \n",
       "75%     138.594000   139.984750   130.362750   140.394000  142.139250   \n",
       "max     249.221000   252.287000   240.385000   249.681000  167.257000   \n",
       "\n",
       "             es555        es560            es565       es570       es590  \\\n",
       "count  3258.000000  1193.000000      1952.000000  963.000000  701.000000   \n",
       "mean     97.828945   112.703707        79.286234  103.776580   74.207520   \n",
       "std      45.437147    44.697131        53.206429   42.219324   40.351176   \n",
       "min       0.284000     1.335600         1.224000    3.000000    1.172130   \n",
       "25%      62.379225    83.768000        27.036500   74.508500   41.941600   \n",
       "50%     104.924000   117.050000        80.904450  109.649000   73.890000   \n",
       "75%     136.329000   146.006000       129.177500  139.978000  101.678000   \n",
       "max     243.629000   224.900000       241.932000  175.822000  232.829000   \n",
       "\n",
       "            es619        es625        es665        es670        es683  \n",
       "count  883.000000  1884.000000  2679.000000  1616.000000  2026.000000  \n",
       "mean   104.035418    72.964430    84.566881    96.691502    87.335151  \n",
       "std     35.324931    49.204037    40.986300    37.233330    35.406345  \n",
       "min      8.077000     1.082000     1.052000     1.287880     1.020000  \n",
       "25%     79.802000    24.159750    51.307000    74.092875    62.955850  \n",
       "50%    110.165000    76.645150    88.946000   102.500000    92.958500  \n",
       "75%    132.720500   116.041500   118.992000   123.000000   116.755250  \n",
       "max    172.375000   270.043000   284.477000   194.600000   158.677000  "
      ]
     },
     "execution_count": 9,
     "metadata": {},
     "output_type": "execute_result"
    }
   ],
   "source": [
    "dfEs.describe()"
   ]
  },
  {
   "cell_type": "code",
   "execution_count": 10,
   "metadata": {
    "collapsed": false
   },
   "outputs": [],
   "source": [
    "rrsCol = ['Rrs' + e.split('es')[1] for e in es]"
   ]
  },
  {
   "cell_type": "code",
   "execution_count": 11,
   "metadata": {
    "collapsed": false
   },
   "outputs": [],
   "source": [
    "dfRrs=pd.DataFrame()\n",
    "for r,l,e in zip(rrsCol,lws,es):\n",
    "    dfRrs[r] = dfLw[l]/dfEs[e]\n",
    "dfRrs['lat'] = dfNomad['lat']\n",
    "dfRrs['lon'] = dfNomad['lon']"
   ]
  },
  {
   "cell_type": "code",
   "execution_count": 12,
   "metadata": {
    "collapsed": true
   },
   "outputs": [],
   "source": [
    "timWl=['Rrs411','Rrs443','Rrs469','Rrs489','Rrs510','Rrs520','Rrs547','Rrs550','Rrs555','Rrs560','Rrs565','Rrs670']"
   ]
  },
  {
   "cell_type": "code",
   "execution_count": 20,
   "metadata": {
    "collapsed": true
   },
   "outputs": [],
   "source": [
    "# pickle dfRrs\n",
    "dfRrs.to_pickle('dfMyNomadV2.p')"
   ]
  },
  {
   "cell_type": "code",
   "execution_count": 19,
   "metadata": {
    "collapsed": false
   },
   "outputs": [
    {
     "data": {
      "text/html": [
       "<div>\n",
       "<table border=\"1\" class=\"dataframe\">\n",
       "  <thead>\n",
       "    <tr style=\"text-align: right;\">\n",
       "      <th></th>\n",
       "      <th>Rrs405</th>\n",
       "      <th>Rrs411</th>\n",
       "      <th>Rrs443</th>\n",
       "      <th>Rrs455</th>\n",
       "      <th>Rrs465</th>\n",
       "      <th>Rrs489</th>\n",
       "      <th>Rrs510</th>\n",
       "      <th>Rrs520</th>\n",
       "      <th>Rrs530</th>\n",
       "      <th>Rrs550</th>\n",
       "      <th>...</th>\n",
       "      <th>Rrs565</th>\n",
       "      <th>Rrs570</th>\n",
       "      <th>Rrs590</th>\n",
       "      <th>Rrs619</th>\n",
       "      <th>Rrs625</th>\n",
       "      <th>Rrs665</th>\n",
       "      <th>Rrs670</th>\n",
       "      <th>Rrs683</th>\n",
       "      <th>lat</th>\n",
       "      <th>lon</th>\n",
       "    </tr>\n",
       "  </thead>\n",
       "  <tbody>\n",
       "    <tr>\n",
       "      <th>count</th>\n",
       "      <td>12.000000</td>\n",
       "      <td>4293.000000</td>\n",
       "      <td>4456.000000</td>\n",
       "      <td>393.000000</td>\n",
       "      <td>375.000000</td>\n",
       "      <td>4422.000000</td>\n",
       "      <td>3435.000000</td>\n",
       "      <td>1559.000000</td>\n",
       "      <td>1589.000000</td>\n",
       "      <td>912.000000</td>\n",
       "      <td>...</td>\n",
       "      <td>1884.000000</td>\n",
       "      <td>816.000000</td>\n",
       "      <td>690.000000</td>\n",
       "      <td>883.000000</td>\n",
       "      <td>1884.000000</td>\n",
       "      <td>2641.000000</td>\n",
       "      <td>1598.000000</td>\n",
       "      <td>2008.000000</td>\n",
       "      <td>4459.000000</td>\n",
       "      <td>4459.000000</td>\n",
       "    </tr>\n",
       "    <tr>\n",
       "      <th>mean</th>\n",
       "      <td>0.006333</td>\n",
       "      <td>0.004881</td>\n",
       "      <td>0.004652</td>\n",
       "      <td>0.003223</td>\n",
       "      <td>0.004766</td>\n",
       "      <td>0.004590</td>\n",
       "      <td>0.004130</td>\n",
       "      <td>0.004302</td>\n",
       "      <td>0.004973</td>\n",
       "      <td>0.006632</td>\n",
       "      <td>...</td>\n",
       "      <td>0.003620</td>\n",
       "      <td>0.005526</td>\n",
       "      <td>0.003565</td>\n",
       "      <td>0.002230</td>\n",
       "      <td>0.001901</td>\n",
       "      <td>0.000689</td>\n",
       "      <td>0.001557</td>\n",
       "      <td>0.001312</td>\n",
       "      <td>1.868658</td>\n",
       "      <td>-61.592062</td>\n",
       "    </tr>\n",
       "    <tr>\n",
       "      <th>std</th>\n",
       "      <td>0.003972</td>\n",
       "      <td>0.003447</td>\n",
       "      <td>0.003002</td>\n",
       "      <td>0.002901</td>\n",
       "      <td>0.002458</td>\n",
       "      <td>0.002768</td>\n",
       "      <td>0.003130</td>\n",
       "      <td>0.003926</td>\n",
       "      <td>0.004962</td>\n",
       "      <td>0.006480</td>\n",
       "      <td>...</td>\n",
       "      <td>0.004486</td>\n",
       "      <td>0.006038</td>\n",
       "      <td>0.005225</td>\n",
       "      <td>0.003681</td>\n",
       "      <td>0.003190</td>\n",
       "      <td>0.001687</td>\n",
       "      <td>0.002387</td>\n",
       "      <td>0.002300</td>\n",
       "      <td>44.765125</td>\n",
       "      <td>53.894958</td>\n",
       "    </tr>\n",
       "    <tr>\n",
       "      <th>min</th>\n",
       "      <td>0.001216</td>\n",
       "      <td>0.000051</td>\n",
       "      <td>0.000190</td>\n",
       "      <td>0.000229</td>\n",
       "      <td>0.000896</td>\n",
       "      <td>0.000284</td>\n",
       "      <td>0.000261</td>\n",
       "      <td>0.000533</td>\n",
       "      <td>0.000251</td>\n",
       "      <td>0.001000</td>\n",
       "      <td>...</td>\n",
       "      <td>0.000379</td>\n",
       "      <td>0.000600</td>\n",
       "      <td>0.000079</td>\n",
       "      <td>0.000000</td>\n",
       "      <td>0.000000</td>\n",
       "      <td>0.000000</td>\n",
       "      <td>0.000000</td>\n",
       "      <td>0.000000</td>\n",
       "      <td>-77.035600</td>\n",
       "      <td>-179.955000</td>\n",
       "    </tr>\n",
       "    <tr>\n",
       "      <th>25%</th>\n",
       "      <td>0.001838</td>\n",
       "      <td>0.002509</td>\n",
       "      <td>0.002617</td>\n",
       "      <td>0.001604</td>\n",
       "      <td>0.002925</td>\n",
       "      <td>0.003051</td>\n",
       "      <td>0.002831</td>\n",
       "      <td>0.002356</td>\n",
       "      <td>0.002300</td>\n",
       "      <td>0.002298</td>\n",
       "      <td>...</td>\n",
       "      <td>0.001356</td>\n",
       "      <td>0.001448</td>\n",
       "      <td>0.000747</td>\n",
       "      <td>0.000200</td>\n",
       "      <td>0.000228</td>\n",
       "      <td>0.000088</td>\n",
       "      <td>0.000200</td>\n",
       "      <td>0.000100</td>\n",
       "      <td>-61.299000</td>\n",
       "      <td>-82.699950</td>\n",
       "    </tr>\n",
       "    <tr>\n",
       "      <th>50%</th>\n",
       "      <td>0.006932</td>\n",
       "      <td>0.003984</td>\n",
       "      <td>0.003899</td>\n",
       "      <td>0.002523</td>\n",
       "      <td>0.004335</td>\n",
       "      <td>0.004153</td>\n",
       "      <td>0.003425</td>\n",
       "      <td>0.002900</td>\n",
       "      <td>0.003171</td>\n",
       "      <td>0.004822</td>\n",
       "      <td>...</td>\n",
       "      <td>0.001874</td>\n",
       "      <td>0.002600</td>\n",
       "      <td>0.001459</td>\n",
       "      <td>0.000500</td>\n",
       "      <td>0.000486</td>\n",
       "      <td>0.000173</td>\n",
       "      <td>0.000614</td>\n",
       "      <td>0.000328</td>\n",
       "      <td>27.093000</td>\n",
       "      <td>-67.675000</td>\n",
       "    </tr>\n",
       "    <tr>\n",
       "      <th>75%</th>\n",
       "      <td>0.009987</td>\n",
       "      <td>0.006301</td>\n",
       "      <td>0.006076</td>\n",
       "      <td>0.003985</td>\n",
       "      <td>0.006119</td>\n",
       "      <td>0.005655</td>\n",
       "      <td>0.004242</td>\n",
       "      <td>0.004400</td>\n",
       "      <td>0.006051</td>\n",
       "      <td>0.009000</td>\n",
       "      <td>...</td>\n",
       "      <td>0.003456</td>\n",
       "      <td>0.008025</td>\n",
       "      <td>0.005375</td>\n",
       "      <td>0.002900</td>\n",
       "      <td>0.002479</td>\n",
       "      <td>0.000428</td>\n",
       "      <td>0.002000</td>\n",
       "      <td>0.001700</td>\n",
       "      <td>34.458500</td>\n",
       "      <td>-63.961500</td>\n",
       "    </tr>\n",
       "    <tr>\n",
       "      <th>max</th>\n",
       "      <td>0.011736</td>\n",
       "      <td>0.030600</td>\n",
       "      <td>0.036769</td>\n",
       "      <td>0.040897</td>\n",
       "      <td>0.015112</td>\n",
       "      <td>0.063814</td>\n",
       "      <td>0.077740</td>\n",
       "      <td>0.034800</td>\n",
       "      <td>0.098617</td>\n",
       "      <td>0.108867</td>\n",
       "      <td>...</td>\n",
       "      <td>0.049500</td>\n",
       "      <td>0.050400</td>\n",
       "      <td>0.097025</td>\n",
       "      <td>0.039300</td>\n",
       "      <td>0.043714</td>\n",
       "      <td>0.028000</td>\n",
       "      <td>0.027700</td>\n",
       "      <td>0.033300</td>\n",
       "      <td>79.690000</td>\n",
       "      <td>179.907000</td>\n",
       "    </tr>\n",
       "  </tbody>\n",
       "</table>\n",
       "<p>8 rows × 22 columns</p>\n",
       "</div>"
      ],
      "text/plain": [
       "          Rrs405       Rrs411       Rrs443      Rrs455      Rrs465  \\\n",
       "count  12.000000  4293.000000  4456.000000  393.000000  375.000000   \n",
       "mean    0.006333     0.004881     0.004652    0.003223    0.004766   \n",
       "std     0.003972     0.003447     0.003002    0.002901    0.002458   \n",
       "min     0.001216     0.000051     0.000190    0.000229    0.000896   \n",
       "25%     0.001838     0.002509     0.002617    0.001604    0.002925   \n",
       "50%     0.006932     0.003984     0.003899    0.002523    0.004335   \n",
       "75%     0.009987     0.006301     0.006076    0.003985    0.006119   \n",
       "max     0.011736     0.030600     0.036769    0.040897    0.015112   \n",
       "\n",
       "            Rrs489       Rrs510       Rrs520       Rrs530      Rrs550  \\\n",
       "count  4422.000000  3435.000000  1559.000000  1589.000000  912.000000   \n",
       "mean      0.004590     0.004130     0.004302     0.004973    0.006632   \n",
       "std       0.002768     0.003130     0.003926     0.004962    0.006480   \n",
       "min       0.000284     0.000261     0.000533     0.000251    0.001000   \n",
       "25%       0.003051     0.002831     0.002356     0.002300    0.002298   \n",
       "50%       0.004153     0.003425     0.002900     0.003171    0.004822   \n",
       "75%       0.005655     0.004242     0.004400     0.006051    0.009000   \n",
       "max       0.063814     0.077740     0.034800     0.098617    0.108867   \n",
       "\n",
       "          ...            Rrs565      Rrs570      Rrs590      Rrs619  \\\n",
       "count     ...       1884.000000  816.000000  690.000000  883.000000   \n",
       "mean      ...          0.003620    0.005526    0.003565    0.002230   \n",
       "std       ...          0.004486    0.006038    0.005225    0.003681   \n",
       "min       ...          0.000379    0.000600    0.000079    0.000000   \n",
       "25%       ...          0.001356    0.001448    0.000747    0.000200   \n",
       "50%       ...          0.001874    0.002600    0.001459    0.000500   \n",
       "75%       ...          0.003456    0.008025    0.005375    0.002900   \n",
       "max       ...          0.049500    0.050400    0.097025    0.039300   \n",
       "\n",
       "            Rrs625       Rrs665       Rrs670       Rrs683          lat  \\\n",
       "count  1884.000000  2641.000000  1598.000000  2008.000000  4459.000000   \n",
       "mean      0.001901     0.000689     0.001557     0.001312     1.868658   \n",
       "std       0.003190     0.001687     0.002387     0.002300    44.765125   \n",
       "min       0.000000     0.000000     0.000000     0.000000   -77.035600   \n",
       "25%       0.000228     0.000088     0.000200     0.000100   -61.299000   \n",
       "50%       0.000486     0.000173     0.000614     0.000328    27.093000   \n",
       "75%       0.002479     0.000428     0.002000     0.001700    34.458500   \n",
       "max       0.043714     0.028000     0.027700     0.033300    79.690000   \n",
       "\n",
       "               lon  \n",
       "count  4459.000000  \n",
       "mean    -61.592062  \n",
       "std      53.894958  \n",
       "min    -179.955000  \n",
       "25%     -82.699950  \n",
       "50%     -67.675000  \n",
       "75%     -63.961500  \n",
       "max     179.907000  \n",
       "\n",
       "[8 rows x 22 columns]"
      ]
     },
     "execution_count": 19,
     "metadata": {},
     "output_type": "execute_result"
    }
   ],
   "source": [
    "dfRrs.describe()"
   ]
  },
  {
   "cell_type": "code",
   "execution_count": 14,
   "metadata": {
    "collapsed": false
   },
   "outputs": [
    {
     "name": "stdout",
     "output_type": "stream",
     "text": [
      "Index(['Rrs405', 'Rrs411', 'Rrs443', 'Rrs455', 'Rrs465', 'Rrs489', 'Rrs510',\n",
      "       'Rrs520', 'Rrs530', 'Rrs550', 'Rrs555', 'Rrs560', 'Rrs565', 'Rrs570',\n",
      "       'Rrs590', 'Rrs619', 'Rrs625', 'Rrs665', 'Rrs670', 'Rrs683', 'lat',\n",
      "       'lon'],\n",
      "      dtype='object')\n"
     ]
    }
   ],
   "source": [
    "print(dfRrs.columns)\n",
    "dfAquaRrs = dfRrs[['Rrs411','Rrs443','Rrs489']]"
   ]
  },
  {
   "cell_type": "code",
   "execution_count": 17,
   "metadata": {
    "collapsed": false
   },
   "outputs": [
    {
     "data": {
      "text/plain": [
       "(0, 0.12)"
      ]
     },
     "execution_count": 17,
     "metadata": {},
     "output_type": "execute_result"
    },
    {
     "data": {
      "image/png": "[encoded data removed]",
      "text/plain": [
       "<matplotlib.figure.Figure at 0x7f571d9669e8>"
      ]
     },
     "metadata": {},
     "output_type": "display_data"
    }
   ],
   "source": [
    "# Can we use \"yellow-green\" channels to augment a single band?\n",
    "def make_patch_spines_invisible(ax):\n",
    "    ax.set_frame_on(True)\n",
    "    ax.patch.set_visible(False)\n",
    "    for sp in ax.spines.values():\n",
    "        sp.set_visible(False)\n",
    "\n",
    "fYellow,axYe = pl.subplots(figsize=(8,8))\n",
    "axYe.scatter(dfRrs.Rrs550,dfRrs.Rrs555,color='darkturquoise')\n",
    "axYe.tick_params(axis='y',colors='darkturquoise')\n",
    "lims=(0,.12)\n",
    "axYe.plot(lims,lims,'k',ls='--')\n",
    "axYe.set_ylabel('Rrs(555)',color='darkturquoise')\n",
    "ax560 = axYe.twinx()\n",
    "ax565 = axYe.twinx()\n",
    "ax565.spines[\"right\"].set_position((\"axes\",1.2))\n",
    "# Having been created by twinx, ax565 has its frame off, so the line of its\n",
    "# detached spine is invisible.  First, activate the frame but make the patch\n",
    "# and spines invisible.\n",
    "make_patch_spines_invisible(ax565)\n",
    "ax565.spines[\"right\"].set_visible(True)\n",
    "ax560.scatter(dfRrs.Rrs550,dfRrs.Rrs560,color='indigo')\n",
    "ax560.set_ylabel('Rrs(560)',color='indigo')\n",
    "ax560.tick_params(axis='y',colors='indigo')\n",
    "ax560.set_ylim(lims)\n",
    "ax565.scatter(dfRrs.Rrs550,dfRrs.Rrs565,color='darkorange')\n",
    "ax565.set_ylabel('Rrs(565)',color='darkorange')\n",
    "ax565.tick_params(axis='y',colors='darkorange')\n",
    "ax565.yaxis.label.set_color('darkorange')\n",
    "ax565.set_ylim(lims);\n",
    "axYe.set_ylim(lims)\n",
    "axYe.set_xlim(lims)"
   ]
  },
  {
   "cell_type": "code",
   "execution_count": 18,
   "metadata": {
    "collapsed": false
   },
   "outputs": [
    {
     "data": {
      "text/plain": [
       "(-1e-05, 0.04)"
      ]
     },
     "execution_count": 18,
     "metadata": {},
     "output_type": "execute_result"
    },
    {
     "data": {
      "image/png": "[encoded data removed]",
      "text/plain": [
       "<matplotlib.figure.Figure at 0x7f571b71fa58>"
      ]
     },
     "metadata": {},
     "output_type": "display_data"
    }
   ],
   "source": [
    "# Can we use 'red' channels to augment a single band?\n",
    "ylims=(-1e-5,0.04)\n",
    "fRed,axRed = pl.subplots(figsize=(6,6))\n",
    "axRed683 = axRed.twinx()\n",
    "p1=axRed.scatter(dfRrs.Rrs670,dfRrs.Rrs665,color='b')\n",
    "axRed.yaxis.label.set_color('b')\n",
    "p2=axRed683.scatter(dfRrs.Rrs670,dfRrs.Rrs683,color='r',alpha=0.2)\n",
    "axRed683.yaxis.label.set_color('r')\n",
    "axRed.plot([0,0.04],[0,0.04],'k',ls='--',label='1:1')\n",
    "axRed.set_xlabel('Rrs(670)')\n",
    "axRed.set_ylabel('Rrs(665)')\n",
    "axRed683.set_ylabel('Rrs(683)')\n",
    "axRed.tick_params(axis='y',colors='b')\n",
    "axRed683.tick_params(axis='y',colors='r')\n",
    "axRed683.set_ylim(ylims)\n",
    "axRed.set_ylim(ylims)\n",
    "axRed.set_xlim(ylims)"
   ]
  },
  {
   "cell_type": "code",
   "execution_count": null,
   "metadata": {
    "collapsed": false
   },
   "outputs": [],
   "source": [
    "print(dfRrs[['Rrs411', 'Rrs443', 'Rrs489', 'Rrs510',\n",
    "       'Rrs520', 'Rrs530', 'Rrs550', 'Rrs555', 'Rrs560', 'Rrs565', 'Rrs570',\n",
    "       'Rrs590', 'Rrs619', 'Rrs625', 'Rrs665', 'Rrs670', 'Rrs683', 'lat',\n",
    "       'lon']].describe())"
   ]
  },
  {
   "cell_type": "code",
   "execution_count": null,
   "metadata": {
    "collapsed": false
   },
   "outputs": [],
   "source": [
    "dfRrsSub = dfRrs[['Rrs411','Rrs443','Rrs489','Rrs510','Rrs555','Rrs670','lat','lon']]"
   ]
  },
  {
   "cell_type": "code",
   "execution_count": null,
   "metadata": {
    "collapsed": false
   },
   "outputs": [],
   "source": [
    "dfRrsSubClean = dfRrsSub.dropna()"
   ]
  },
  {
   "cell_type": "code",
   "execution_count": null,
   "metadata": {
    "collapsed": false
   },
   "outputs": [],
   "source": [
    "baxes=dfRrsSubClean[['Rrs411','Rrs443','Rrs489',\n",
    "                     'Rrs510','Rrs555','Rrs670']].boxplot(figsize=(10,5),return_type='axes');"
   ]
  },
  {
   "cell_type": "code",
   "execution_count": null,
   "metadata": {
    "collapsed": false
   },
   "outputs": [],
   "source": [
    "import matplotlib.pyplot as pl\n",
    "pl.plot(dfRrsSubClean[['Rrs411','Rrs443','Rrs489',\n",
    "                     'Rrs510','Rrs555','Rrs670']].transpose().values);\n",
    "lbls=dfRrsSubClean.columns\n",
    "pl.xticks(range(len(lbls)),lbls);"
   ]
  },
  {
   "cell_type": "code",
   "execution_count": null,
   "metadata": {
    "collapsed": false
   },
   "outputs": [],
   "source": [
    "import seaborn as sb\n",
    "sb.pairplot(dfRrsSubClean[['Rrs411','Rrs443','Rrs489',\n",
    "                     'Rrs510','Rrs555','Rrs670']]);"
   ]
  },
  {
   "cell_type": "code",
   "execution_count": null,
   "metadata": {
    "collapsed": true
   },
   "outputs": [],
   "source": [
    "from sklearn.preprocessing import scale\n",
    "from sklearn.decomposition import PCA\n",
    "from sklearn.preprocessing import Normalizer\n",
    "from sklearn.preprocessing import StandardScaler"
   ]
  },
  {
   "cell_type": "code",
   "execution_count": null,
   "metadata": {
    "collapsed": true
   },
   "outputs": [],
   "source": [
    "X = dfRrsSubClean[['Rrs411','Rrs443','Rrs489',\n",
    "                     'Rrs510','Rrs555','Rrs670']].values\n",
    "lons=dfRrsSubClean['lon'].values\n",
    "lats=dfRrsSubClean['lat'].values"
   ]
  },
  {
   "cell_type": "code",
   "execution_count": null,
   "metadata": {
    "collapsed": false
   },
   "outputs": [],
   "source": [
    "dfRrsSubClean.describe()"
   ]
  },
  {
   "cell_type": "code",
   "execution_count": null,
   "metadata": {
    "collapsed": false
   },
   "outputs": [],
   "source": [
    "X.shape,lons.shape,lats.shape"
   ]
  },
  {
   "cell_type": "code",
   "execution_count": null,
   "metadata": {
    "collapsed": false
   },
   "outputs": [],
   "source": [
    "type(lons)"
   ]
  },
  {
   "cell_type": "code",
   "execution_count": null,
   "metadata": {
    "collapsed": true
   },
   "outputs": [],
   "source": [
    "from mpl_toolkits.basemap import Basemap\n",
    "import matplotlib.pyplot as pl"
   ]
  },
  {
   "cell_type": "code",
   "execution_count": null,
   "metadata": {
    "collapsed": false
   },
   "outputs": [],
   "source": [
    "fig,ax=pl.subplots(figsize=(12,10))\n",
    "m = Basemap(projection='kav7',lon_0=0,ax=ax)\n",
    "x,y=m(lons,lats)\n",
    "m.drawmapboundary(fill_color='#99ffff')\n",
    "m.fillcontinents(color='#cc9966',lake_color='#99ffff')\n",
    "m.scatter(x,y,3,marker='o',color='r')\n",
    "pl.title('Location of NOMAD data emulating SeaWiFS bands');\n",
    "# Now I need to plot modis bands. Also I'll need to augment the data set with the many bands provided in the nomad \n",
    "# data set"
   ]
  },
  {
   "cell_type": "code",
   "execution_count": null,
   "metadata": {
    "collapsed": false
   },
   "outputs": [],
   "source": [
    "X1 = scale(X)\n",
    "norm= Normalizer()`\n",
    "sc=StandardScaler()"
   ]
  },
  {
   "cell_type": "code",
   "execution_count": null,
   "metadata": {
    "collapsed": false
   },
   "outputs": [],
   "source": [
    "X2norm = norm.fit_transform(X)\n",
    "X2sc = sc.fit_transform(X)"
   ]
  },
  {
   "cell_type": "code",
   "execution_count": null,
   "metadata": {
    "collapsed": false
   },
   "outputs": [],
   "source": [
    "X1.mean()"
   ]
  },
  {
   "cell_type": "code",
   "execution_count": null,
   "metadata": {
    "collapsed": false
   },
   "outputs": [],
   "source": [
    "X2norm.mean()"
   ]
  },
  {
   "cell_type": "code",
   "execution_count": null,
   "metadata": {
    "collapsed": false
   },
   "outputs": [],
   "source": [
    "X2sc.mean()"
   ]
  },
  {
   "cell_type": "code",
   "execution_count": null,
   "metadata": {
    "collapsed": true
   },
   "outputs": [],
   "source": [
    "pca1=PCA(n_components=6)\n",
    "pca2Norm=PCA(n_components=6)\n",
    "pca2Sc = PCA(n_components=6)"
   ]
  },
  {
   "cell_type": "code",
   "execution_count": null,
   "metadata": {
    "collapsed": false
   },
   "outputs": [],
   "source": [
    "pca1.fit(X1)\n",
    "pca2Norm.fit(X2norm)\n",
    "pca2Sc.fit(X2sc)"
   ]
  },
  {
   "cell_type": "code",
   "execution_count": null,
   "metadata": {
    "collapsed": true
   },
   "outputs": [],
   "source": [
    "var1=pca1.explained_variance_ratio_\n",
    "var2n=pca2Norm.explained_variance_ratio_\n",
    "var2sc=pca2Sc.explained_variance_ratio_"
   ]
  },
  {
   "cell_type": "code",
   "execution_count": null,
   "metadata": {
    "collapsed": false
   },
   "outputs": [],
   "source": [
    "fig,ax3 = pl.subplots(nrows=2,ncols=2,figsize=(15,15))\n",
    "ax3[0,0].plot(var1)\n",
    "ax3[0,1].plot(var2n)\n",
    "ax3[0,1].set_title('Normalized')\n",
    "ax3[1,0].plot(var2sc)\n",
    "ax3[1,0].set_title('Scaled')\n",
    "    "
   ]
  },
  {
   "cell_type": "code",
   "execution_count": null,
   "metadata": {
    "collapsed": true
   },
   "outputs": [],
   "source": [
    "import skfuzzy as sf\n",
    "import numpy as np"
   ]
  },
  {
   "cell_type": "code",
   "execution_count": null,
   "metadata": {
    "collapsed": false
   },
   "outputs": [],
   "source": [
    "X.T.shape"
   ]
  },
  {
   "cell_type": "code",
   "execution_count": null,
   "metadata": {
    "collapsed": false
   },
   "outputs": [],
   "source": [
    "X.shape"
   ]
  },
  {
   "cell_type": "code",
   "execution_count": null,
   "metadata": {
    "collapsed": false
   },
   "outputs": [],
   "source": [
    "cntr,u,u0,d,jm,p,fpc=sf.cluster.cmeans(X.T,5,2,error=0.005,maxiter=1000,init=None)"
   ]
  },
  {
   "cell_type": "code",
   "execution_count": null,
   "metadata": {
    "collapsed": false
   },
   "outputs": [],
   "source": [
    "xb = Xi_Beni(X,cntr,u)\n",
    "print(xb)"
   ]
  },
  {
   "cell_type": "code",
   "execution_count": null,
   "metadata": {
    "collapsed": false
   },
   "outputs": [],
   "source": [
    "xb"
   ]
  },
  {
   "cell_type": "code",
   "execution_count": null,
   "metadata": {
    "collapsed": false
   },
   "outputs": [],
   "source": [
    "u[:,cmem].min()"
   ]
  },
  {
   "cell_type": "code",
   "execution_count": null,
   "metadata": {
    "collapsed": false
   },
   "outputs": [],
   "source": [
    "cmem.shape,u.shape"
   ]
  },
  {
   "cell_type": "code",
   "execution_count": null,
   "metadata": {
    "collapsed": false
   },
   "outputs": [],
   "source": [
    "u.max(axis=0).min()"
   ]
  },
  {
   "cell_type": "code",
   "execution_count": null,
   "metadata": {
    "collapsed": false
   },
   "outputs": [],
   "source": [
    "colors=['b', 'orange', 'g', 'r', 'c', 'm', 'y', 'k', 'Brown', 'ForestGreen','khaki','lightsalmon',\n",
    "       'purple','slategray','olivedrab','hotpink']\n",
    "# We don't know how many clusters we need. So we'll loop between 2 and 16 clusters\n",
    "fpcs=[]\n",
    "minCenters = 3\n",
    "maxCenters = 17\n",
    "owtd=dict.fromkeys(np.arange(minCenters,maxCenters))\n",
    "cntrCoord = dict.fromkeys(np.arange(minCenters,maxCenters))\n",
    "owtc = dict.fromkeys(np.arange(minCenters,maxCenters))\n",
    "xbs=[]\n",
    "for ncenters in range(minCenters,maxCenters):\n",
    "    cntr,u,u0,d,jm,p,fpc=sf.cluster.cmeans(X.T,ncenters,2,error=0.005,maxiter=1000,init=None)\n",
    "    fpcs.append(fpc)\n",
    "    xb=Xi_Beni(X,cntr,u)\n",
    "    xbs.append(xb)\n",
    "    owtd[ncenters] = np.argmax(u,axis=0)\n",
    "    cntrCoord[ncenters] = cntr\n",
    "    owtc[ncenters] = u\n",
    "    print('%d - FPC: %f | XB: %f' % (ncenters,fpc,xb))"
   ]
  },
  {
   "cell_type": "code",
   "execution_count": null,
   "metadata": {
    "collapsed": false
   },
   "outputs": [],
   "source": [
    "for i,f in enumerate(zip(fpcs,xbs)):\n",
    "    print('%d - FPC: %f <--> XB: %f' %(i+minCenters,f[0],f[1]))"
   ]
  },
  {
   "cell_type": "code",
   "execution_count": null,
   "metadata": {
    "collapsed": false
   },
   "outputs": [],
   "source": [
    "for i,f in enumerate(zip(fpcs,xbs)):\n",
    "    print('%d - FPC: %f <--> XB: %f' %(i+2,f[0],f[1]))"
   ]
  },
  {
   "cell_type": "code",
   "execution_count": null,
   "metadata": {
    "collapsed": false
   },
   "outputs": [],
   "source": [
    "c=cntrCoord[3]\n",
    "uc=owtc[3]\n",
    "c.shape,uc.shape"
   ]
  },
  {
   "cell_type": "code",
   "execution_count": null,
   "metadata": {
    "collapsed": false
   },
   "outputs": [],
   "source": [
    "dmin = d.cdist(c,c)"
   ]
  },
  {
   "cell_type": "code",
   "execution_count": null,
   "metadata": {
    "collapsed": false
   },
   "outputs": [],
   "source": [
    "d=np.unique(dmin)"
   ]
  },
  {
   "cell_type": "code",
   "execution_count": null,
   "metadata": {
    "collapsed": false
   },
   "outputs": [],
   "source": [
    "ucsub=uc[:,:2]\n",
    "xsub=X[:2,:]\n",
    "xsub.shape,c.shape,ucsub.shape"
   ]
  },
  {
   "cell_type": "code",
   "execution_count": null,
   "metadata": {
    "collapsed": false
   },
   "outputs": [],
   "source": [
    "a=cdist(xsub,c)"
   ]
  },
  {
   "cell_type": "code",
   "execution_count": null,
   "metadata": {
    "collapsed": false
   },
   "outputs": [],
   "source": [
    "# 2x3: rowi,colj = distancd of point i from center j\n",
    "a"
   ]
  },
  {
   "cell_type": "code",
   "execution_count": null,
   "metadata": {
    "collapsed": false
   },
   "outputs": [],
   "source": [
    "ucsub.T"
   ]
  },
  {
   "cell_type": "code",
   "execution_count": null,
   "metadata": {
    "collapsed": true
   },
   "outputs": [],
   "source": [
    "s=ucsub.T*a"
   ]
  },
  {
   "cell_type": "code",
   "execution_count": null,
   "metadata": {
    "collapsed": false
   },
   "outputs": [],
   "source": [
    "a.shape,ucsub.shape"
   ]
  },
  {
   "cell_type": "code",
   "execution_count": null,
   "metadata": {
    "collapsed": false
   },
   "outputs": [],
   "source": [
    "pl.plot(np.arange(minCenters,maxCenters),fpcs)"
   ]
  },
  {
   "cell_type": "code",
   "execution_count": null,
   "metadata": {
    "collapsed": true
   },
   "outputs": [],
   "source": [
    "from scipy.spatial.distance import cdist"
   ]
  },
  {
   "cell_type": "code",
   "execution_count": null,
   "metadata": {
    "collapsed": false
   },
   "outputs": [],
   "source": [
    "a=[(0,1),(1,0),(-1,3)]\n",
    "b=np.unique(np.square(cdist(a,a)))\n",
    "c=b[b>0].min()\n",
    "a,b,c,c.min(),np.nonzero(b)"
   ]
  },
  {
   "cell_type": "code",
   "execution_count": null,
   "metadata": {
    "collapsed": true
   },
   "outputs": [],
   "source": [
    "from scipy.spatial.distance import cdist\n",
    "\n",
    "def Xie_Beni(x,cntrs,mu_ij,m=2):\n",
    "    \"\"\" implements the Xi-Beni validity function\n",
    "    given n obs, m features, c centers\n",
    "    X is data; dims:(n x m)\n",
    "    cntrs is cluster centroid coordinates in feature space; dims (c x m)\n",
    "    mu_ij is membership of obs j to cluster i; dims: (n x c)\n",
    "    returns:\n",
    "    s_i: ratio of compactness to separation; dims: (1xc)\n",
    "    \"\"\"\n",
    "    # calculate cluster separation\n",
    "    d = np.unique(np.square(cdist(cntrs,cntrs)))\n",
    "    dmin = d[d>0].min() \n",
    "    bottom = x.shape[1] * dmin\n",
    "    top =np.square(mu_ij) * np.square(cdist(cntrs,x))\n",
    "    s_i =  top.sum()/bottom\n",
    "    return s_i\n",
    "\n",
    "def Davies_Bouldin(x,cntrs)\n",
    "    "
   ]
  },
  {
   "cell_type": "code",
   "execution_count": null,
   "metadata": {
    "collapsed": true
   },
   "outputs": [],
   "source": []
  }
 ],
 "metadata": {
  "kernelspec": {
   "display_name": "Python 3",
   "language": "python",
   "name": "python3"
  },
  "language_info": {
   "codemirror_mode": {
    "name": "ipython",
    "version": 3
   },
   "file_extension": ".py",
   "mimetype": "text/x-python",
   "name": "python",
   "nbconvert_exporter": "python",
   "pygments_lexer": "ipython3",
   "version": "3.5.1"
  }
 },
 "nbformat": 4,
 "nbformat_minor": 0
}
